{
 "cells": [
  {
   "cell_type": "markdown",
   "metadata": {},
   "source": [
    "#### **Autores**: Álisson De Oliveira Alves, Rafael de Medeiros Capuano e Wesley José dos Santos Marinho\n",
    "#### **Disciplina**: Aprendizado de Máquina (PPGEEC2318)\n",
    "#### **Professor**: _IVANOVITCH MEDEIROS DANTAS DA SILVA_\n",
    "________________________________________________________________\n",
    "\n",
    "## Projeto Final da Disciplina de _Machine Learning_\n",
    "_____________________________________\n",
    "\n",
    "#### Contextualização do Projeto prático\n",
    "\n",
    "#####  Este documento serve como introdução ao projeto final da disciplina de Machine Learning (PPGEEC2318 - APRENDIZADO DE MÁQUINA - T01, 2024.1 - 5T3456), oferecida pela Universidade Federal do Rio Grande do Norte. O projeto envolve o uso da biblioteca \"Building Footprint Segmentation\", especializada em treinar modelos para segmentação de pegadas de edificações em imagens de satélite e aéreas. Através deste projeto, demonstraremos a implementação de técnicas de transfer learning, com resultados específicos aplicados ao estado de Minas Gerais apresentados em arquivos PDF separados. Este roteiro explicativo detalha passo a passo desde a instalação da biblioteca até a segmentação e visualização de imagens, utilizando recursos como o TensorBoard e callbacks personalizados para monitoramento do processo de treinamento. Este projeto constitui a nota final da disciplina mencionada e é um exemplo prático da aplicação de conceitos avançados de aprendizado de máquina.\n",
    "\n",
    "* Link da biblioteca utilizada: _https://pypi.org/project/building-footprint-segmentation/#description_ "
   ]
  },
  {
   "cell_type": "markdown",
   "metadata": {},
   "source": [
    "#### Roteiro para Utilização da Biblioteca \"_Building Footprint Segmentation_\" em Proposta de Transfer Learning\n",
    "\n",
    "### INTRODUÇÃO\n",
    "\n",
    "* O presente roteiro destina-se a orientar o uso da biblioteca \"Building Footprint Segmentation\", especialmente focado na implementação de transfer learning para a segmentação de pegadas de edificações em imagens de satélite e aéreas. Este roteiro será complementado por resultados específicos para o estado de Minas Gerais, apresentados em arquivos PDF separados.\n",
    "\n",
    "_____________________________________\n",
    "\n",
    "#### NO TERMINAL INSTALAR AS DEPENDÊNCIAS DA BIBLIOTECA\n",
    "* #### 1. Instalação da biblioteca\n",
    "\n",
    "```python\n",
    "    pip install building-footprint-segmentation\n",
    "```\n",
    "_____________________________________"
   ]
  },
  {
   "cell_type": "markdown",
   "metadata": {},
   "source": [
    "* #### 2. Preparação do Dataset\n",
    "\n",
    "##### A biblioteca suporta dois datasets principais para treinamento:\n",
    "* Massachusetts Buildings Dataset\n",
    "* Inria Aerial Image Labeling Dataset\n",
    "_____________________________________"
   ]
  },
  {
   "cell_type": "markdown",
   "metadata": {},
   "source": [
    "* #### 3. Configuração do Treinamento\n",
    "\n",
    "#####  Existem duas formas principais de configurar o treinamento na biblioteca:\n",
    "* Treino com Configuração: Utilize o template de configuração fornecido pela biblioteca para gerar um arquivo de configuração específico para o treinamento.\n",
    "* Treino com Argumentos: Execute o treinamento fornecendo argumentos diretamente na linha de comando ou através de um script Python.\n",
    "_____________________________________"
   ]
  },
  {
   "cell_type": "markdown",
   "metadata": {},
   "source": [
    "* #### 4. Visualização do Treinamento\n",
    "\n",
    "##### TensorBoard: Para visualizar o progresso do treinamento, configure o TensorBoard usando o seguinte código:\n",
    "_____________________________________"
   ]
  },
  {
   "cell_type": "code",
   "execution_count": 9,
   "metadata": {},
   "outputs": [
    {
     "ename": "SyntaxError",
     "evalue": "cannot assign to expression here. Maybe you meant '==' instead of '='? (2890445970.py, line 8)",
     "output_type": "error",
     "traceback": [
      "\u001b[0;36m  Cell \u001b[0;32mIn[9], line 8\u001b[0;36m\u001b[0m\n\u001b[0;31m    tensorboard --logdir=\"path_to_log_callback\"\u001b[0m\n\u001b[0m    ^\u001b[0m\n\u001b[0;31mSyntaxError\u001b[0m\u001b[0;31m:\u001b[0m cannot assign to expression here. Maybe you meant '==' instead of '='?\n"
     ]
    }
   ],
   "source": [
    "from building_footprint_segmentation.helpers.callbacks import CallbackList, TensorBoardCallback\n",
    "\n",
    "where_to_log_the_callback = r\"path_to_log_callback\"\n",
    "callbacks = CallbackList()\n",
    "callbacks.append(TensorBoardCallback(where_to_log_the_callback))\n",
    "\n",
    "# Para iniciar o TensorBoard:\n",
    "tensorboard --logdir=\"path_to_log_callback\"\n",
    "\n",
    "\n",
    "# Callbacks Personalizados: Você pode definir callbacks personalizados para modificar o comportamento do treinamento conforme necessário:\n",
    "\n",
    "from building_footprint_segmentation.helpers.callbacks import CallbackList, Callback\n",
    "\n",
    "class CustomCallback(Callback):\n",
    "    def __init__(self, log_dir):\n",
    "        super().__init__(log_dir)\n",
    "\n",
    "where_to_log_the_callback = r\"path_to_log_callback\"\n",
    "callbacks = CallbackList()\n",
    "callbacks.append(CustomCallback(where_to_log_the_callback))"
   ]
  },
  {
   "cell_type": "markdown",
   "metadata": {},
   "source": [
    "* #### 5. Segmentação de Imagens\n",
    "\n",
    "##### Para processar imagens grandes e adaptá-las ao modelo:\n",
    "\n",
    "##### Fragmentação de Imagens: Utilize o código a seguir para dividir as imagens em fragmentos menores que sejam compatíveis com as dimensões exigidas pelo modelo.\n",
    "_____________________________________"
   ]
  },
  {
   "cell_type": "code",
   "execution_count": null,
   "metadata": {},
   "outputs": [],
   "source": [
    "import glob\n",
    "import os\n",
    "from imageio import imread, imsave\n",
    "from image_fragment.fragment import ImageFragment\n",
    "\n",
    "ORIGINAL_DIM_OF_IMAGE = (1500, 1500, 3)\n",
    "CROP_TO_DIM = (384, 384, 3)\n",
    "\n",
    "image_fragment = ImageFragment.image_fragment_3d(\n",
    "    fragment_size=(384, 384, 3), org_size=ORIGINAL_DIM_OF_IMAGE\n",
    ")\n",
    "\n",
    "IMAGE_DIR = r\"pth\\to\\input\\dir\"\n",
    "SAVE_DIR = r\"pth\\to\\save\\dir\"\n",
    "\n",
    "for file in glob.glob(os.path.join(IMAGE_DIR, \"*\")):\n",
    "    image = imread(file)\n",
    "    for i, fragment in enumerate(image_fragment):\n",
    "        fragmented_image = fragment.get_fragment_data(image)\n",
    "        imsave(os.path.join(SAVE_DIR, f\"{i}_{os.path.basename(file)}\"), fragmented_image)\n"
   ]
  },
  {
   "cell_type": "markdown",
   "metadata": {},
   "source": [
    "* #### 6. Arquivos de Resultados para Minas Gerais\n",
    "\n",
    "##### Os resultados específicos do uso desta biblioteca para segmentação de pegadas de edificações no estado de Minas Gerais serão disponibilizados em arquivos PDF separados. Esses documentos incluirão análises detalhadas e visualizações das previsões de segmentação.\n",
    "\n",
    "* #### Conclusão\n",
    "##### Este roteiro proporciona uma visão geral sobre como configurar e utilizar a biblioteca \"Building Footprint Segmentation\" para tarefas de transfer learning em imagens de satélite. Para detalhes mais específicos, especialmente aplicados ao contexto de Minas Gerais, referencie os arquivos PDF complementares.\n",
    "\n",
    "_____________________________________"
   ]
  }
 ],
 "metadata": {
  "kernelspec": {
   "display_name": "Python 3",
   "language": "python",
   "name": "python3"
  },
  "language_info": {
   "codemirror_mode": {
    "name": "ipython",
    "version": 3
   },
   "file_extension": ".py",
   "mimetype": "text/x-python",
   "name": "python",
   "nbconvert_exporter": "python",
   "pygments_lexer": "ipython3",
   "version": "3.11.9"
  }
 },
 "nbformat": 4,
 "nbformat_minor": 2
}
