{
 "cells": [
  {
   "cell_type": "markdown",
   "metadata": {},
   "source": [
    "#### **Autor**: Álisson De Oliveira Alves\n",
    "#### **Site**: https://linktr.ee/devalissonalves\n",
    "#### **Disciplina**: Aprendizado de Máquina (PPGEEC2318)\n",
    "#### **Professor**: _IVANOVITCH MEDEIROS DANTAS DA SILVA_\n",
    "________________________________________________________________\n",
    "\n",
    "## Livro: Projetando sistemas de _Machine Learning_\n",
    "\n",
    "### Capítulo 1: _Overview of Machine Learning Systems_\n",
    "\n",
    "#### TÓPICO 1\n",
    "\n",
    "* Historicamente o contexto do aprendizado de máquina surgiu em meados de 1950, fazendo referência a capacidade das máquinas aprenderem sem a necessidade explícita de serem programadas. O livro da _Chip Huyen_ logo nos primeiros parágrafos fomenta a discussão trazendo a data do anúncio da **Google** indicando que havia incorporado ao _Google Translate_ soluções de _Deep Learning_ / *Redes Neurais Artificiais Profundas* no ano de 2016. Essa mudança na solução dessa grande companhia foi responsável por uma melhoria exponencial no processo de tradução que não se tinha visto nos últimos 10 anos. Esse marco ficou na história por ter sido um dos primeiros _cases_ do sucesso da utilização em escala de soluções envolvendo _Deep Learning_.\n",
    "\n",
    "* A partir do marco apresentado no tópico anterior, é evidenciado no livro a ascenção de novos interesses no aprendizado de máquina (_Machine Learning_), pois inúmeras empresas buscaram resolver problemas complexos utilizando soluções de ML. Dessa forma, ao passar dos anos, diferentes problemas nas mais diferentes áreas das vidas dos seres humanos (saúde, transporte, educação, agricultura, dentre outros) passaram a ter envolvimento do aprendizado de máquina de alguma maneira.\n",
    "\n",
    "#### TÓPICO 2\n",
    "\n",
    "* De maneira geral a autora chama atenção indicando a necessidade de inicialmente antes de qualquer coisa, questionar a utilização de aprendizado de máquina no contexto do problema, pois, nem sempre soluções de inteligência artificial pode ser o melhor caminho. Para tanto, é descrito que abordagens utilizando ML servem para contextos que envolvem: _\"Aprender padrões complexos de dados existentes e usar esses padrões para realizar previsões sobre dados não vistos\"_.\n",
    "\n",
    "* GERALMENTE SISTEMAS QUE ENVOLVEM ML PRECISAM: \n",
    "    1. Capacidade de Aprender;\n",
    "    2. Deve existir padrões para aprender (**complexos**);\n",
    "    3. Que dados estejam disponíveis;\n",
    "    4. Que seja um problema preditivo;\n",
    "    5. Dados invisíveis (_não vistos_) que compartilham padrões com os dados de treinamento;\n",
    "    6. Que padrões sejam repetidos. O modelo necessita de muitas amostras para aprender;\n",
    "    7. Que o custo das previsões errôneas seja batato;\n",
    "    8. Que estejam em escala;\n",
    "    9. Que os padrões mudem;\n",
    "\n",
    "* QUANDO NÃO SE UTILIZAR ALGORITMOS DE ML:\n",
    "    1. Quando o uso for antiético;\n",
    "    2. Quando soluções mais simples resolvem o problema;\n",
    "    3. Quando não for econômico;\n",
    "\n",
    "\n"
   ]
  }
 ],
 "metadata": {
  "kernelspec": {
   "display_name": "base",
   "language": "python",
   "name": "python3"
  },
  "language_info": {
   "codemirror_mode": {
    "name": "ipython",
    "version": 3
   },
   "file_extension": ".py",
   "mimetype": "text/x-python",
   "name": "python",
   "nbconvert_exporter": "python",
   "pygments_lexer": "ipython3",
   "version": "3.11.5"
  }
 },
 "nbformat": 4,
 "nbformat_minor": 2
}
