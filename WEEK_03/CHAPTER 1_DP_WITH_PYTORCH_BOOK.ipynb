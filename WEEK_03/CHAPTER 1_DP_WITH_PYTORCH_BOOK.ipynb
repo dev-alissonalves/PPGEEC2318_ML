{
 "cells": [
  {
   "cell_type": "code",
   "execution_count": null,
   "metadata": {},
   "outputs": [],
   "source": [
    "#### **Autor**: Álisson De Oliveira Alves\n",
    "#### **Site**: https://linktr.ee/devalissonalves\n",
    "#### **Disciplina**: Aprendizado de Máquina (PPGEEC2318)\n",
    "#### **Professor**: _IVANOVITCH MEDEIROS DANTAS DA SILVA_\n",
    "________________________________________________________________\n",
    "\n",
    "## Livro: Deep Learning with _Pytorch_: Step By Step\n",
    "\n",
    "### Capítulo 1: _Fundamentals_"
   ]
  }
 ],
 "metadata": {
  "language_info": {
   "name": "python"
  }
 },
 "nbformat": 4,
 "nbformat_minor": 2
}
