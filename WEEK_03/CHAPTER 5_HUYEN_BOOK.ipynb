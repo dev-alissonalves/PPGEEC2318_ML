{
 "cells": [
  {
   "cell_type": "markdown",
   "metadata": {},
   "source": [
    "#### **Autor**: Álisson De Oliveira Alves\n",
    "#### **Site**: https://linktr.ee/devalissonalves\n",
    "#### **Disciplina**: Aprendizado de Máquina (PPGEEC2318)\n",
    "#### **Professor**: _IVANOVITCH MEDEIROS DANTAS DA SILVA_\n",
    "________________________________________________________________\n",
    "\n",
    "## Livro: Projetando sistemas de _Machine Learning_\n",
    "\n",
    "### Capítulo 5: _Feature Engineering_\n",
    "\n",
    "#### PRINCIPAIS INSIGHTS DO CAPÍTULO\n",
    "\n",
    "* Contextualização _Feature Engineering_\n",
    "_____________________________________\n",
    "\n",
    "**Introdução**: Arquiteturas ultramodernas de modelo podem ter um desempenho ruim se não usarem um bom conjunto de _features_.\n",
    "\n",
    "* _Features aprendidas x Features Projetadas_\n",
    "_____________________________________\n",
    "\n",
    "- A promessa do aprendizado profundo é não precisarmos criar features manuais. Por esse motivo, o aprendizado profundo às vezes é chamado de aprendizado de feature [feature learning].\n",
    "\n",
    "- Ao invés de ter que extrair manualmente features de imagens RAW e inseri-las em seus modelos de ML, basta inserir imagens RAW diretamente em seus modelos de aprendizado profundo.\n",
    "\n",
    "- O processo de escolher quais informações usar e como extrair essas informações em um formato utilizável \n"
   ]
  }
 ],
 "metadata": {
  "kernelspec": {
   "display_name": "base",
   "language": "python",
   "name": "python3"
  },
  "language_info": {
   "codemirror_mode": {
    "name": "ipython",
    "version": 3
   },
   "file_extension": ".py",
   "mimetype": "text/x-python",
   "name": "python",
   "nbconvert_exporter": "python",
   "pygments_lexer": "ipython3",
   "version": "3.11.5"
  }
 },
 "nbformat": 4,
 "nbformat_minor": 2
}
